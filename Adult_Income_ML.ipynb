{
 "cells": [
  {
   "cell_type": "code",
   "execution_count": 1,
   "id": "appointed-indie",
   "metadata": {
    "ExecuteTime": {
     "end_time": "2021-03-12T15:25:10.816192Z",
     "start_time": "2021-03-12T15:25:10.081771Z"
    }
   },
   "outputs": [],
   "source": [
    "import pandas as pd\n",
    "import numpy as np\n",
    "\n",
    "from sklearn.model_selection import train_test_split, RandomizedSearchCV\n",
    "from sklearn.pipeline        import Pipeline\n",
    "from sklearn.preprocessing   import StandardScaler, OneHotEncoder\n",
    "from sklearn.impute          import SimpleImputer\n",
    "from sklearn.compose         import ColumnTransformer\n",
    "from sklearn.metrics         import *\n",
    "from sklearn.base            import BaseEstimator\n",
    "\n",
    "from sklearn.linear_model    import LogisticRegression, RidgeClassifier\n",
    "from sklearn.naive_bayes     import BernoulliNB, GaussianNB\n",
    "from sklearn.tree            import DecisionTreeClassifier\n",
    "from sklearn.ensemble        import RandomForestClassifier\n"
   ]
  },
  {
   "cell_type": "markdown",
   "id": "editorial-viewer",
   "metadata": {},
   "source": [
    "## Research Question:\n",
    "Can we use a machine learning model to predict whether or not a person will earn $50,000.00 per year based on their demographics?"
   ]
  },
  {
   "cell_type": "markdown",
   "id": "illegal-parade",
   "metadata": {},
   "source": [
    "## Load the data"
   ]
  },
  {
   "cell_type": "code",
   "execution_count": 2,
   "id": "naked-syria",
   "metadata": {
    "ExecuteTime": {
     "end_time": "2021-03-12T15:25:10.885932Z",
     "start_time": "2021-03-12T15:25:10.817802Z"
    }
   },
   "outputs": [],
   "source": [
    "data = pd.read_csv('income_data.csv')"
   ]
  },
  {
   "cell_type": "code",
   "execution_count": 3,
   "id": "original-average",
   "metadata": {
    "ExecuteTime": {
     "end_time": "2021-03-12T15:25:10.893114Z",
     "start_time": "2021-03-12T15:25:10.887914Z"
    }
   },
   "outputs": [],
   "source": [
    "y = data[data.columns[-1]]\n",
    "X = data[data.columns[:-1]]"
   ]
  },
  {
   "cell_type": "code",
   "execution_count": 4,
   "id": "anonymous-semester",
   "metadata": {
    "ExecuteTime": {
     "end_time": "2021-03-12T15:25:10.913944Z",
     "start_time": "2021-03-12T15:25:10.894881Z"
    }
   },
   "outputs": [],
   "source": [
    "X_train, X_test, y_train, y_test = train_test_split(X, y, random_state=0)\n",
    "X_train, X_validation, y_train, y_validation = train_test_split(X_train, y_train, random_state=0)"
   ]
  },
  {
   "cell_type": "markdown",
   "id": "minus-funeral",
   "metadata": {},
   "source": [
    "### Fit initial model"
   ]
  },
  {
   "cell_type": "code",
   "execution_count": 5,
   "id": "consolidated-harris",
   "metadata": {
    "ExecuteTime": {
     "end_time": "2021-03-12T15:25:11.151843Z",
     "start_time": "2021-03-12T15:25:10.915739Z"
    }
   },
   "outputs": [
    {
     "name": "stdout",
     "output_type": "stream",
     "text": [
      "F1 weighted score: 0.6808\n",
      "Balanced accuracy: 0.6809\n",
      "Area Under Curve:  0.6809\n"
     ]
    }
   ],
   "source": [
    "# Find the categorical columns\n",
    "categorical_columns = (X.dtypes == object)\n",
    "\n",
    "# Setup preprocessing pipelines based on data types\n",
    "con_pipe = Pipeline([('scaler', StandardScaler()),\n",
    "                     ('imputer', SimpleImputer(strategy='median', add_indicator=True))])\n",
    "\n",
    "cat_pipe = Pipeline([('ohe', OneHotEncoder(handle_unknown='ignore')),\n",
    "                     ('imputer', SimpleImputer(strategy='most_frequent', add_indicator=True))])\n",
    "\n",
    "preprocessing = ColumnTransformer([('categorical', cat_pipe,  categorical_columns),\n",
    "                                   ('continuous',  con_pipe, ~categorical_columns),\n",
    "                                   ])\n",
    "\n",
    "pipe = Pipeline([('preprocessing', preprocessing), \n",
    "                 ('clf', LogisticRegression(solver='liblinear'))])\n",
    "pipe.fit(X_train, y_train)\n",
    "\n",
    "y_pred = pipe.predict(X_validation)\n",
    "f1_weighted = f1_score(y_validation, y_pred, average = 'weighted')\n",
    "f1 = f1_score(y_validation, y_pred)\n",
    "bac = balanced_accuracy_score(y_validation, y_pred)\n",
    "\n",
    "print(f'F1 score:          {f1:.4f}')\n",
    "print(f'F1 weighted score: {f1_weighted:.4f}')\n",
    "print(f'Balanced accuracy: {bac:.4f}')\n"
   ]
  },
  {
   "cell_type": "markdown",
   "id": "german-festival",
   "metadata": {},
   "source": [
    "## Searching for best linear model"
   ]
  },
  {
   "cell_type": "code",
   "execution_count": 6,
   "id": "strategic-glasgow",
   "metadata": {
    "ExecuteTime": {
     "end_time": "2021-03-12T15:25:11.155030Z",
     "start_time": "2021-03-12T15:25:11.153083Z"
    }
   },
   "outputs": [],
   "source": [
    "# Going to be used as a placeholder to test different algorithms\n",
    "class DummyEstimator(BaseEstimator):\n",
    "    def fit(self): pass\n",
    "    def score(self): pass"
   ]
  },
  {
   "cell_type": "code",
   "execution_count": 7,
   "id": "several-tablet",
   "metadata": {
    "ExecuteTime": {
     "end_time": "2021-03-12T15:25:11.159574Z",
     "start_time": "2021-03-12T15:25:11.156308Z"
    }
   },
   "outputs": [],
   "source": [
    "search = [{'algo': [LogisticRegression()],\n",
    "           'algo__penalty': ['l1','l2'],\n",
    "           'algo__class_weight': ['balanced', None],\n",
    "           'algo__solver': ['liblinear', 'newton-cg']},\n",
    "          \n",
    "          {'algo': [RidgeClassifier()],\n",
    "           'algo__normalize': [True,False],\n",
    "           'algo__max_iter': [10,100,1000]},\n",
    "          \n",
    "          {'algo': [BernoulliNB()],\n",
    "           'algo__alpha': [1e-6, 1e-3, 0, 0.5, 1, 1e3, 1e6],\n",
    "           'algo__fit_prior': [True, False]},\n",
    "          \n",
    "          {'algo': [GaussianNB()],\n",
    "           'algo__var_smoothing': [1e-9, 1e-6, 1e-3, 1, 1e3, 1e6]}]"
   ]
  },
  {
   "cell_type": "code",
   "execution_count": 8,
   "id": "dress-dragon",
   "metadata": {
    "ExecuteTime": {
     "end_time": "2021-03-12T15:25:11.164194Z",
     "start_time": "2021-03-12T15:25:11.162352Z"
    }
   },
   "outputs": [],
   "source": [
    "pipe = Pipeline([('preprocessing', preprocessing), \n",
    "                 ('algo', DummyEstimator())])"
   ]
  },
  {
   "cell_type": "code",
   "execution_count": 9,
   "id": "headed-graham",
   "metadata": {
    "ExecuteTime": {
     "end_time": "2021-03-12T15:25:21.942252Z",
     "start_time": "2021-03-12T15:25:11.166624Z"
    }
   },
   "outputs": [
    {
     "name": "stdout",
     "output_type": "stream",
     "text": [
      "Fitting 5 folds for each of 30 candidates, totalling 150 fits\n"
     ]
    },
    {
     "name": "stderr",
     "output_type": "stream",
     "text": [
      "[Parallel(n_jobs=-1)]: Using backend LokyBackend with 16 concurrent workers.\n",
      "[Parallel(n_jobs=-1)]: Done  18 tasks      | elapsed:    2.4s\n",
      "[Parallel(n_jobs=-1)]: Done 150 out of 150 | elapsed:    9.5s finished\n"
     ]
    },
    {
     "data": {
      "text/plain": [
       "(LogisticRegression(penalty='l1', solver='liblinear'), 0.6816391661752492)"
      ]
     },
     "execution_count": 9,
     "metadata": {},
     "output_type": "execute_result"
    }
   ],
   "source": [
    "rand_algos = RandomizedSearchCV(estimator=pipe, \n",
    "                                param_distributions=search, \n",
    "                                n_iter=30,\n",
    "                                cv=5, \n",
    "                                scoring='f1_weighted',\n",
    "                                n_jobs=-1,\n",
    "                                verbose=1)\n",
    "\n",
    "best_model = rand_algos.fit(X_train, y_train)\n",
    "results = rand_algos.cv_results_\n",
    "\n",
    "best_model.best_estimator_.get_params()['algo'], best_model.best_score_"
   ]
  },
  {
   "cell_type": "markdown",
   "id": "affecting-equipment",
   "metadata": {},
   "source": [
    "## Searching for best Trees models"
   ]
  },
  {
   "cell_type": "code",
   "execution_count": 10,
   "id": "appropriate-recommendation",
   "metadata": {
    "ExecuteTime": {
     "end_time": "2021-03-12T15:25:21.946788Z",
     "start_time": "2021-03-12T15:25:21.943606Z"
    }
   },
   "outputs": [],
   "source": [
    "trees = [{'algo': [DecisionTreeClassifier()],\n",
    "          'algo__criterion': ['gini','entropy'],\n",
    "          'algo__splitter': ['best','random'],\n",
    "          'algo__max_depth': [None, 5, 10, 20],\n",
    "          'algo__min_samples_leaf': [1,5,10]},\n",
    "         \n",
    "         {'algo': [RandomForestClassifier()],\n",
    "          'algo__n_estimators': [50, 100, 150, 200],\n",
    "          'algo__criterion': ['gini','entropy'],\n",
    "          'algo__max_depth': [None, 5, 10, 25, 50],\n",
    "          'algo__min_samples_leaf': [1,5,10],\n",
    "          'algo__n_jobs': [-1],\n",
    "          'algo__class_weight': [None, 'balanced'],\n",
    "          'algo__oob_score': [True, False]}]"
   ]
  },
  {
   "cell_type": "code",
   "execution_count": 11,
   "id": "excess-sitting",
   "metadata": {
    "ExecuteTime": {
     "end_time": "2021-03-12T15:28:02.105458Z",
     "start_time": "2021-03-12T15:25:21.948057Z"
    }
   },
   "outputs": [
    {
     "name": "stdout",
     "output_type": "stream",
     "text": [
      "Fitting 5 folds for each of 50 candidates, totalling 250 fits\n"
     ]
    },
    {
     "name": "stderr",
     "output_type": "stream",
     "text": [
      "[Parallel(n_jobs=-1)]: Using backend LokyBackend with 16 concurrent workers.\n",
      "[Parallel(n_jobs=-1)]: Done  18 tasks      | elapsed:    7.5s\n",
      "[Parallel(n_jobs=-1)]: Done 168 tasks      | elapsed:  1.2min\n",
      "[Parallel(n_jobs=-1)]: Done 250 out of 250 | elapsed:  2.6min finished\n"
     ]
    },
    {
     "data": {
      "text/plain": [
       "(RandomForestClassifier(criterion='entropy', min_samples_leaf=5, n_jobs=-1,\n",
       "                        oob_score=True),\n",
       " 0.6989961753617548)"
      ]
     },
     "execution_count": 11,
     "metadata": {},
     "output_type": "execute_result"
    }
   ],
   "source": [
    "rand_trees = RandomizedSearchCV(estimator=pipe, \n",
    "                                param_distributions=trees, \n",
    "                                n_iter=50,\n",
    "                                cv=5, \n",
    "                                scoring='f1_weighted',\n",
    "                                n_jobs=-1,\n",
    "                                verbose=1)\n",
    "\n",
    "best_trees = rand_trees.fit(X_train, y_train)\n",
    "results = rand_trees.cv_results_\n",
    "\n",
    "best_trees.best_estimator_.get_params()['algo'], best_trees.best_score_"
   ]
  },
  {
   "cell_type": "markdown",
   "id": "revised-reggae",
   "metadata": {},
   "source": [
    "## Test Validation on best model"
   ]
  },
  {
   "cell_type": "code",
   "execution_count": 12,
   "id": "appointed-cuisine",
   "metadata": {
    "ExecuteTime": {
     "end_time": "2021-03-12T15:28:02.177987Z",
     "start_time": "2021-03-12T15:28:02.107107Z"
    }
   },
   "outputs": [
    {
     "name": "stdout",
     "output_type": "stream",
     "text": [
      "F1 weighted score: 0.7013\n",
      "Balanced accuracy: 0.7015\n",
      "Area Under Curve:  0.7015\n"
     ]
    }
   ],
   "source": [
    "y_pred = best_trees.predict(X_validation)\n",
    "\n",
    "f1_weighted = f1_score(y_validation, y_pred, average = 'weighted')\n",
    "f1 = f1_score(y_validation, y_pred)\n",
    "bac = balanced_accuracy_score(y_validation, y_pred)\n",
    "roc_auc = roc_auc_score(y_validation, y_pred)\n",
    "\n",
    "# print(f'F1 score:          {f1:.4f}')\n",
    "print(f'F1 weighted score: {f1_weighted:.4f}')\n",
    "print(f'Balanced accuracy: {bac:.4f}')\n",
    "print(f'Area Under Curve:  {roc_auc:.4f}')"
   ]
  },
  {
   "cell_type": "markdown",
   "id": "radio-lindsay",
   "metadata": {},
   "source": [
    "### Final Model"
   ]
  },
  {
   "cell_type": "code",
   "execution_count": null,
   "id": "substantial-issue",
   "metadata": {
    "ExecuteTime": {
     "start_time": "2021-03-12T15:29:14.261Z"
    }
   },
   "outputs": [],
   "source": [
    "pipe = Pipeline([('preprocessing', preprocessing), \n",
    "                 ('rf', RandomForestClassifier(criterion='entropy',\n",
    "                                               min_samples_leaf=5,\n",
    "                                               n_estimators=150,\n",
    "                                               n_jobs=-1,\n",
    "                                               oob_score=True))])\n",
    "pipe.fit(X_train, y_train)"
   ]
  },
  {
   "cell_type": "code",
   "execution_count": null,
   "id": "tight-holly",
   "metadata": {
    "ExecuteTime": {
     "start_time": "2021-03-12T15:29:16.325Z"
    }
   },
   "outputs": [],
   "source": [
    "y_pred = pipe.predict(X_test)\n",
    "\n",
    "f1_weighted = f1_score(y_test, y_pred, average = 'weighted')\n",
    "f1 = f1_score(y_test, y_pred)\n",
    "bac = balanced_accuracy_score(y_test, y_pred)\n",
    "roc_auc = roc_auc_score(y_test, y_pred)\n",
    "\n",
    "print(f'F1 score:          {f1:.4f}')\n",
    "print(f'F1 weighted score: {f1_weighted:.4f}')\n",
    "print(f'Balanced accuracy: {bac:.4f}')\n",
    "print(f'Area Under Curve:  {roc_auc:.4f}')"
   ]
  },
  {
   "cell_type": "code",
   "execution_count": null,
   "id": "placed-police",
   "metadata": {},
   "outputs": [],
   "source": []
  },
  {
   "cell_type": "code",
   "execution_count": null,
   "id": "manufactured-performance",
   "metadata": {},
   "outputs": [],
   "source": []
  }
 ],
 "metadata": {
  "kernelspec": {
   "display_name": "Python 3",
   "language": "python",
   "name": "python3"
  },
  "language_info": {
   "codemirror_mode": {
    "name": "ipython",
    "version": 3
   },
   "file_extension": ".py",
   "mimetype": "text/x-python",
   "name": "python",
   "nbconvert_exporter": "python",
   "pygments_lexer": "ipython3",
   "version": "3.8.5"
  },
  "varInspector": {
   "cols": {
    "lenName": 16,
    "lenType": 16,
    "lenVar": 40
   },
   "kernels_config": {
    "python": {
     "delete_cmd_postfix": "",
     "delete_cmd_prefix": "del ",
     "library": "var_list.py",
     "varRefreshCmd": "print(var_dic_list())"
    },
    "r": {
     "delete_cmd_postfix": ") ",
     "delete_cmd_prefix": "rm(",
     "library": "var_list.r",
     "varRefreshCmd": "cat(var_dic_list()) "
    }
   },
   "types_to_exclude": [
    "module",
    "function",
    "builtin_function_or_method",
    "instance",
    "_Feature"
   ],
   "window_display": false
  }
 },
 "nbformat": 4,
 "nbformat_minor": 5
}
